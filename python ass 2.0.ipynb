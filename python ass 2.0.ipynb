{
 "cells": [
  {
   "cell_type": "code",
   "execution_count": 2,
   "id": "8fb64960-3fd7-44dd-b155-39ad9993f257",
   "metadata": {},
   "outputs": [
    {
     "name": "stdout",
     "output_type": "stream",
     "text": [
      "[1, 3, 5, 7, 9, 11, 13, 15, 17, 19, 21, 23, 25]\n"
     ]
    }
   ],
   "source": [
    "# Q1. Which keyword is used to create a function? Create a function to return a list of odd numbers in the range of 1 to 25.\n",
    "\n",
    "# Ans>>In Python, the keyword used to create a function is def. Here's how you can create a function to \n",
    "def odd_numbers():\n",
    "    odd_nums = []\n",
    "    for num in range(1, 26):\n",
    "        if num % 2 != 0:\n",
    "            odd_nums.append(num)\n",
    "    return odd_nums\n",
    "print(odd_numbers())\n"
   ]
  },
  {
   "cell_type": "code",
   "execution_count": 4,
   "id": "6fb0e982-4b71-4093-a106-8fc02a4233a6",
   "metadata": {},
   "outputs": [
    {
     "name": "stdout",
     "output_type": "stream",
     "text": [
      "15\n",
      "60\n",
      "name: John\n",
      "age: 30\n",
      "city: New York\n"
     ]
    }
   ],
   "source": [
    "# Q2. Why *args and **kwargs is used in some functions? Create a function each for *args and **kwargs to demonstrate their use.\n",
    "\\\n",
    "# Ans>> In Python, *args and **kwargs are used in function definitions to allow the function to accept an arbitrary number  of positional\n",
    "#  and keyword arguments, respectively.\n",
    "def sum_all(*args):\n",
    "    total = 0\n",
    "    for num in args:\n",
    "        total += num\n",
    "    return total\n",
    "print(sum_all(1, 2, 3, 4, 5))\n",
    "print(sum_all(10, 20, 30))\n",
    "\n",
    "\n",
    "\n",
    "def print_info(**kwargs):\n",
    "    for key, value in kwargs.items():\n",
    "        print(f\"{key}: {value}\")\n",
    "print_info(name=\"John\", age=30, city=\"New York\")\n",
    "\n"
   ]
  },
  {
   "cell_type": "code",
   "execution_count": 5,
   "id": "93850b46-9c17-4a54-bbd7-243e8a68c912",
   "metadata": {},
   "outputs": [
    {
     "name": "stdout",
     "output_type": "stream",
     "text": [
      "2\n",
      "4\n",
      "6\n",
      "8\n",
      "10\n"
     ]
    }
   ],
   "source": [
    "# Q3. What is an iterator in python? Name the method used to initialise the iterator object and the method used for iteration.\n",
    "# Use these methods to print the first five elements of the given list [2, 4, 6, 8, 10, 12, 14,16, 18, 20].\n",
    "\n",
    "# Ans>> In Python, an iterator is an object that allows sequential access to elements in a collection, one at a time, without exposing the \n",
    "# underlying implementation. Iterators are used to iterate over elements in a sequence, such as lists, tuples, dictionaries, etc.\n",
    "# To initialize an iterator object in Python, you typically use the iter() method, and to iterate over the elements, you use the next() method.\n",
    "\n",
    "my_list = [2, 4, 6, 8, 10, 12, 14, 16, 18, 20]\n",
    "iterator = iter(my_list)\n",
    "for _ in range(5):\n",
    "    print(next(iterator))\n"
   ]
  },
  {
   "cell_type": "code",
   "execution_count": 6,
   "id": "763c787d-e57d-4985-b7f8-eeefecdb75c9",
   "metadata": {},
   "outputs": [
    {
     "name": "stdout",
     "output_type": "stream",
     "text": [
      "0\n",
      "1\n",
      "1\n",
      "2\n",
      "3\n",
      "5\n",
      "8\n",
      "13\n",
      "21\n",
      "34\n"
     ]
    }
   ],
   "source": [
    "# Q4. What is a generator function in python? Why yield keyword is used? Give an example of a generator function.\n",
    "\n",
    "# Ans>> In Python, a generator function is a special type of function that allows you to generate a sequence of values iteratively rather than \n",
    "# storing them in memory all at once. It produces values one at a time using the yield keyword instead of return.\n",
    "\n",
    "# The yield keyword is used in generator functions to temporarily suspend the function's execution and yield a value to the caller.\n",
    "# Unlike return, which terminates the function and returns a single value, yield allows the function to retain its state and resume execution from \n",
    "# the same point the next time it's called.\n",
    "\n",
    "# EXAMPLE OF GENERATOR FUNCTION:fibonacci_generator() that generates Fibonacci number.\n",
    "def fibonacci_generator():\n",
    "    a, b = 0, 1\n",
    "    while True:\n",
    "        yield a\n",
    "        a, b = b, a + b\n",
    "fib_gen = fibonacci_generator()\n",
    "for _ in range(10):\n",
    "    print(next(fib_gen))\n"
   ]
  },
  {
   "cell_type": "code",
   "execution_count": 7,
   "id": "d1237fd8-d500-4584-a2e9-dd977286d004",
   "metadata": {},
   "outputs": [
    {
     "name": "stdout",
     "output_type": "stream",
     "text": [
      "2\n",
      "3\n",
      "5\n",
      "7\n",
      "11\n",
      "13\n",
      "17\n",
      "19\n",
      "23\n",
      "29\n",
      "31\n",
      "37\n",
      "41\n",
      "43\n",
      "47\n",
      "53\n",
      "59\n",
      "61\n",
      "67\n",
      "71\n"
     ]
    }
   ],
   "source": [
    "# Q5 Create a generator function for prime numbers less than 1000. Use the next() method to print the first 20 prime numbers.\n",
    "# Ans>> \n",
    "\n",
    "def prime_generator():\n",
    "    for num in range(2, 1000):\n",
    "        if all(num % i != 0 for i in range(2, int(num ** 0.5) + 1)):\n",
    "            yield num\n",
    "prime_gen = prime_generator()\n",
    "for _ in range(20):\n",
    "    print(next(prime_gen))\n"
   ]
  },
  {
   "cell_type": "code",
   "execution_count": 8,
   "id": "2ea666d3-4888-4c2d-8ca8-03e9a12bedb8",
   "metadata": {},
   "outputs": [
    {
     "name": "stdout",
     "output_type": "stream",
     "text": [
      "[0, 1, 1, 2, 3, 5, 8, 13, 21, 34]\n"
     ]
    }
   ],
   "source": [
    "# Q6.Write a python program to print the first 10 Fibonacci numbers using a while loop.\n",
    "# Ans>>\n",
    "# Function to print Fibonacci numbers\n",
    "def fibonacci(n):\n",
    "    fib_list = []\n",
    "    a, b = 0, 1\n",
    "    count = 0\n",
    "    while count < n:\n",
    "        fib_list.append(a)\n",
    "        a, b = b, a + b\n",
    "        count += 1\n",
    "    return fib_list\n",
    "print(fibonacci(10))\n"
   ]
  },
  {
   "cell_type": "code",
   "execution_count": 10,
   "id": "d5b41153-52e2-4e27-b088-bd033d096ad6",
   "metadata": {},
   "outputs": [
    {
     "name": "stdout",
     "output_type": "stream",
     "text": [
      "['p', 'w', 's', 'k', 'i', 'l', 'l', 's']\n"
     ]
    }
   ],
   "source": [
    "# Q7.Write a List Comprehension to iterate through the given string: ‘pwskills’.Expected output: ['p', 'w', 's', 'k', 'i', 'l', 'l', 's']\n",
    "# Ans>>\n",
    "\n",
    "string = 'pwskills'\n",
    "x = [char for char in string if char in 'pwskil']\n",
    "print(x)\n"
   ]
  },
  {
   "cell_type": "code",
   "execution_count": 12,
   "id": "f48c7044-7ce2-4803-96bc-e6eae77692e2",
   "metadata": {},
   "outputs": [
    {
     "name": "stdout",
     "output_type": "stream",
     "text": [
      "131 is palindrome: True\n",
      "12321 is palindrome: True\n",
      "12345 is palindrome: False\n"
     ]
    }
   ],
   "source": [
    "# Q8. Write a python program to check whether a given number is Palindrome or not using a while loop.\n",
    "# Ans>>\n",
    "def is_palindrome(num):\n",
    "    original_num = num\n",
    "    reversed_num = 0\n",
    "\n",
    "    while num > 0:\n",
    "        digit = num % 10\n",
    "        reversed_num = reversed_num * 10 + digit\n",
    "        num //= 10\n",
    "\n",
    "    return original_num == reversed_num\n",
    "num1 = 131\n",
    "num2 = 12321\n",
    "num3 = 12345\n",
    "\n",
    "print(f\"{num1} is palindrome: {is_palindrome(num1)}\")\n",
    "print(f\"{num2} is palindrome: {is_palindrome(num2)}\")\n",
    "print(f\"{num3} is palindrome: {is_palindrome(num3)}\")\n"
   ]
  },
  {
   "cell_type": "code",
   "execution_count": 13,
   "id": "4427132e-f3ff-4ce4-b4bb-c39cedb58f82",
   "metadata": {},
   "outputs": [
    {
     "name": "stdout",
     "output_type": "stream",
     "text": [
      "[1, 3, 5, 7, 9, 11, 13, 15, 17, 19, 21, 23, 25, 27, 29, 31, 33, 35, 37, 39, 41, 43, 45, 47, 49, 51, 53, 55, 57, 59, 61, 63, 65, 67, 69, 71, 73, 75, 77, 79, 81, 83, 85, 87, 89, 91, 93, 95, 97, 99]\n"
     ]
    }
   ],
   "source": [
    "# Q9.Write a code to print odd numbers from 1 to 100 using list comprehension.\n",
    "# Ans>>\n",
    "\n",
    "odd_numbers = [num for num in range(1, 101) if num % 2 != 0]\n",
    "print(odd_numbers)\n"
   ]
  },
  {
   "cell_type": "code",
   "execution_count": null,
   "id": "b6e5563a-eecb-4eff-a66e-d196958b460b",
   "metadata": {},
   "outputs": [],
   "source": []
  }
 ],
 "metadata": {
  "kernelspec": {
   "display_name": "Python 3 (ipykernel)",
   "language": "python",
   "name": "python3"
  },
  "language_info": {
   "codemirror_mode": {
    "name": "ipython",
    "version": 3
   },
   "file_extension": ".py",
   "mimetype": "text/x-python",
   "name": "python",
   "nbconvert_exporter": "python",
   "pygments_lexer": "ipython3",
   "version": "3.10.8"
  }
 },
 "nbformat": 4,
 "nbformat_minor": 5
}
